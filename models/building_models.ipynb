{
 "cells": [
  {
   "cell_type": "code",
   "execution_count": 41,
   "metadata": {},
   "outputs": [],
   "source": [
    "from sklearn.linear_model import LinearRegression\n",
    "from sklearn.ensemble import RandomForestRegressor\n",
    "from sklearn.neural_network._multilayer_perceptron import MLPRegressor\n",
    "from google.oauth2 import service_account\n",
    "from datetime import datetime as date\n",
    "\n",
    "import pandas as pd\n",
    "import pandas_gbq\n"
   ]
  },
  {
   "cell_type": "code",
   "execution_count": 42,
   "metadata": {},
   "outputs": [],
   "source": [
    "player_3gm_avg = [\"min_3gm_avg\", \"fgm_3gm_avg\", \"fga_3gm_avg\", \"fg%_3gm_avg\", \"3pm_3gm_avg\", \n",
    "                   \"3pa_3gm_avg\", \"3p%_3gm_avg\", \"ftm_3gm_avg\", \"fta_3gm_avg\", \"ft%_3gm_avg\", \n",
    "                   \"oreb_3gm_avg\", \"dreb_3gm_avg\", \"reb_3gm_avg\", \"ast_3gm_avg\", \"stl_3gm_avg\", \n",
    "                   \"blk_3gm_avg\", \"to_3gm_avg\", \"pf_3gm_avg\", \"pts_3gm_avg\", \"plus_mins_3gm_avg\"]\n",
    "\n",
    "teams_3gm_avg = [\"offrtg_3gm_avg\", \"defrtg_3gm_avg\", \"netrtg_3gm_avg\", \"ast%_3gm_avg\", \"ast_to_3gm_avg\", \n",
    "                    \"ast_ratio_3gm_avg\", \"oreb%_3gm_avg\", \"dreb%_3gm_avg\", \"reb%_3gm_avg\", \"tov%_3gm_avg\", \n",
    "                    \"efg%_3gm_avg\", \"ts%_3gm_avg\", \"pace_3gm_avg\", \"pie_3gm_avg\"]\n",
    "\n",
    "#using shifted windows for rolling data to prevent data leakage\n",
    "player_query = f\"\"\" \n",
    "SELECT player,team,game_id,game_date,matchup,pts,reb,ast,blk,stl,`3pm`, {','.join([f'`{player}`' for player in player_3gm_avg])},season\n",
    "from `capstone_data.player_modeling_data`\n",
    "order by game_date asc\n",
    "\"\"\"\n",
    "\n",
    "team_query = f\"\"\"\n",
    "SELECT team,game_id,game_date,home,away,`match up`, {', '.join([f'`{team}`' for team in teams_3gm_avg])}\n",
    "from `capstone_data.team_modeling_data`\n",
    "order by game_date asc\n",
    "\"\"\"\n"
   ]
  },
  {
   "cell_type": "code",
   "execution_count": 43,
   "metadata": {},
   "outputs": [
    {
     "name": "stdout",
     "output_type": "stream",
     "text": [
      "Downloading: 100%|\u001b[32m██████████\u001b[0m|\n"
     ]
    }
   ],
   "source": [
    "nba_player_data = pd.DataFrame(pandas_gbq.read_gbq(player_query,project_id='miscellaneous-projects-444203'))"
   ]
  },
  {
   "cell_type": "code",
   "execution_count": 44,
   "metadata": {},
   "outputs": [
    {
     "name": "stdout",
     "output_type": "stream",
     "text": [
      "Downloading: 100%|\u001b[32m██████████\u001b[0m|\n"
     ]
    }
   ],
   "source": [
    "team_data = pd.DataFrame(pandas_gbq.read_gbq(team_query,project_id='miscellaneous-projects-444203'))"
   ]
  },
  {
   "cell_type": "code",
   "execution_count": 45,
   "metadata": {},
   "outputs": [],
   "source": [
    "features_for_team = ['home','away'] + teams_3gm_avg\n",
    "features_for_player = ['pts','reb','ast','blk','stl'] + player_3gm_avg"
   ]
  },
  {
   "cell_type": "code",
   "execution_count": 46,
   "metadata": {},
   "outputs": [],
   "source": [
    "full_data = nba_player_data.merge(team_data, on = ['game_id','team'], how = 'inner',suffixes=('','remove'))\n",
    "\n",
    "full_data.drop([column for column in full_data.columns if 'remove' in column],axis = 1 , inplace=True)"
   ]
  },
  {
   "cell_type": "code",
   "execution_count": 47,
   "metadata": {},
   "outputs": [],
   "source": [
    "full_data.to_csv('full_data.csv',mode = 'x')"
   ]
  }
 ],
 "metadata": {
  "kernelspec": {
   "display_name": "Python 3",
   "language": "python",
   "name": "python3"
  },
  "language_info": {
   "codemirror_mode": {
    "name": "ipython",
    "version": 3
   },
   "file_extension": ".py",
   "mimetype": "text/x-python",
   "name": "python",
   "nbconvert_exporter": "python",
   "pygments_lexer": "ipython3",
   "version": "3.12.3"
  }
 },
 "nbformat": 4,
 "nbformat_minor": 2
}
