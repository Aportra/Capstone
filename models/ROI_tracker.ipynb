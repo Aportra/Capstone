{
 "cells": [
  {
   "cell_type": "code",
   "execution_count": null,
   "metadata": {},
   "outputs": [],
   "source": [
    "import pandas_gbq\n",
    "import pandas as pd"
   ]
  },
  {
   "cell_type": "code",
   "execution_count": null,
   "metadata": {},
   "outputs": [],
   "source": [
    "categories = ['pts','ast','reb','3pm']\n",
    "\n",
    "outcome_data = {}\n",
    "\n",
    "for i in categories:\n",
    "\n",
    "    query = f\"\"\" \n",
    "        select\n",
    "            cl.*,cs.Over,cs.Under\n",
    "            from `capstone_data.{i}_cl_outcome` cl\n",
    "            inner join `capstone_data.{i}_classifications` cs\n",
    "                on cs.player = cl.player and date(cs.Date_Updated) = cl.game_date\n",
    "    \"\"\"\n",
    "\n",
    "    data = pandas_gbq.read_gbq(query,project_id='miscellaneous-projects-444203')\n",
    "\n",
    "    outcome_data[i] = data"
   ]
  },
  {
   "cell_type": "code",
   "execution_count": 20,
   "metadata": {},
   "outputs": [],
   "source": [
    "roi_by_category = {}\n",
    "\n",
    "for i in ['pts', 'ast', 'reb', '3pm']:\n",
    "    df = outcome_data[i].copy()  # grab the DataFrame for this category\n",
    "    \n",
    "    # Deduplicate: keep one row per player-game\n",
    "    df = df.sort_values('proba', ascending=False)\n",
    "    df = df.drop_duplicates(subset=['player', 'game_date'])\n",
    "    \n",
    "    # Rename odds columns just in case\n",
    "    df = df.rename(columns={'Over': 'over_odds', 'Under': 'under_odds'})\n",
    "    \n",
    "    # Profit calculation\n",
    "    def compute_profit(row):\n",
    "        odds = row['over_odds'] if row['recommendation'] == 'Over' else row['under_odds']\n",
    "        if row['recommendation'] == row['result']:\n",
    "            return 100 if odds < 0 else odds\n",
    "        else:\n",
    "            return -abs(odds) if odds < 0 else -100\n",
    "\n",
    "    df['profit'] = df.apply(compute_profit, axis=1)\n",
    "\n",
    "    # Risk calculation (for ROI)\n",
    "    def compute_risk(row):\n",
    "        odds = row['over_odds'] if row['recommendation'] == 'Over' else row['under_odds']\n",
    "        return 100 if odds < 0 else abs(odds)\n",
    "\n",
    "    df['risk'] = df.apply(compute_risk, axis=1)\n",
    "\n",
    "    # ROI tracking\n",
    "    roi_tracker = (\n",
    "        df.groupby('game_date')\n",
    "        .agg(\n",
    "            bets_placed=('player', 'count'),\n",
    "            total_profit=('profit', 'sum'),\n",
    "            total_risk=('risk', 'sum'),\n",
    "            roi_percent=('profit', lambda x: round(x.sum() / df.loc[x.index, 'risk'].sum() * 100, 2))\n",
    "        )\n",
    "        .reset_index()\n",
    "        .sort_values('game_date')\n",
    "    )\n",
    "\n",
    "    roi_by_category[i] = roi_tracker  # store result\n",
    "\n"
   ]
  },
  {
   "cell_type": "code",
   "execution_count": 21,
   "metadata": {},
   "outputs": [
    {
     "name": "stdout",
     "output_type": "stream",
     "text": [
      "pts\n",
      "    game_date  bets_placed  total_profit  total_risk  roi_percent\n",
      "0  2025-04-03           45           130        4500         2.89\n",
      "1  2025-04-04           67          -665        6700        -9.93\n",
      "ast\n",
      "    game_date  bets_placed  total_profit  total_risk  roi_percent\n",
      "0  2025-04-03           21           -46        2178        -2.11\n",
      "1  2025-04-04           25          -441        2682       -16.44\n",
      "reb\n",
      "    game_date  bets_placed  total_profit  total_risk  roi_percent\n",
      "0  2025-04-03           41           240        4238         5.66\n",
      "1  2025-04-04           47           116        4852         2.39\n",
      "3pm\n",
      "    game_date  bets_placed  total_profit  total_risk  roi_percent\n",
      "0  2025-04-03           20          -471        2103       -22.40\n",
      "1  2025-04-04           13           199        1389        14.33\n"
     ]
    }
   ],
   "source": [
    "for i in categories:\n",
    "    print(i)\n",
    "    print(roi_by_category[i])"
   ]
  },
  {
   "cell_type": "code",
   "execution_count": null,
   "metadata": {},
   "outputs": [],
   "source": [
    "for cat, df in roi_by_category.items():\n",
    "    total_roi = round(df['total_profit'].sum() / df['total_risk'].sum() * 100, 2)\n",
    "    print(f\"{cat.upper()} total ROI: {total_roi}%\")\n"
   ]
  }
 ],
 "metadata": {
  "kernelspec": {
   "display_name": "Python 3",
   "language": "python",
   "name": "python3"
  },
  "language_info": {
   "codemirror_mode": {
    "name": "ipython",
    "version": 3
   },
   "file_extension": ".py",
   "mimetype": "text/x-python",
   "name": "python",
   "nbconvert_exporter": "python",
   "pygments_lexer": "ipython3",
   "version": "3.10.12"
  }
 },
 "nbformat": 4,
 "nbformat_minor": 2
}
