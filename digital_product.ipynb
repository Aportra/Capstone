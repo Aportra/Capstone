{
 "cells": [
  {
   "cell_type": "code",
   "execution_count": 2,
   "metadata": {},
   "outputs": [],
   "source": [
    "import manim\n",
    "import manim_ml\n",
    "import random"
   ]
  },
  {
   "cell_type": "markdown",
   "metadata": {},
   "source": [
    "### NBA Betting Lines Project\n",
    "\n",
    "This project "
   ]
  },
  {
   "cell_type": "code",
   "execution_count": null,
   "metadata": {
    "slideshow": {
     "slide_type": "notes"
    }
   },
   "outputs": [
    {
     "data": {
      "text/html": [
       "<pre style=\"white-space:pre;overflow-x:auto;line-height:normal;font-family:Menlo,'DejaVu Sans Mono',consolas,'Courier New',monospace\">Manim Community <span style=\"color: #008000; text-decoration-color: #008000\">v0.18.1</span>\n",
       "\n",
       "</pre>\n"
      ],
      "text/plain": [
       "Manim Community \u001b[32mv0.\u001b[0m\u001b[32m18.1\u001b[0m\n",
       "\n"
      ]
     },
     "metadata": {},
     "output_type": "display_data"
    },
    {
     "name": "stderr",
     "output_type": "stream",
     "text": [
      "                                                                                      \r"
     ]
    },
    {
     "data": {
      "text/html": [
       "<video src=\"media/jupyter/DataFlowScene@2025-03-26@20-20-06.mp4\" controls autoplay loop style=\"max-width: 60%;\"  >\n",
       "      Your browser does not support the <code>video</code> element.\n",
       "    </video>"
      ],
      "text/plain": [
       "<IPython.core.display.Video object>"
      ]
     },
     "metadata": {},
     "output_type": "display_data"
    }
   ],
   "source": [
    "%%manim -ql -v WARNING DataFlowScene\n",
    "\n",
    "from manim import *\n",
    "\n",
    "class DataFlowScene(Scene):\n",
    "    def construct(self):\n",
    "        title = Text(\"NBA Data Pipeline\", font_size=36)\n",
    "        title.to_edge(UP)\n",
    "\n",
    "        nba = Rectangle().set_color(RED).scale(0.5)\n",
    "        nba_text = Text(\"NBA.com\", font_size=24)\n",
    "        nba_text.move_to(nba.get_center())\n",
    "        nba_group = Group(nba, nba_text).move_to(UP * 2+LEFT * 4)\n",
    "\n",
    "        espn = Rectangle().set_color(ORANGE).scale(0.5)\n",
    "        espn_text = Text(\"ESPN.com\", font_size=24)\n",
    "        espn_text.move_to(espn.get_center())\n",
    "        espn_group = Group(espn, espn_text).move_to(UP * 2)\n",
    "\n",
    "        dk = Rectangle().set_color(GREEN).scale(0.5)\n",
    "        dk_text = Text(\"DraftKings\", font_size=24).next_to(dk, RIGHT)\n",
    "        dk_text.move_to(dk.get_center())\n",
    "        dk_group = Group(dk, dk_text).move_to(UP * 2+RIGHT * 4)\n",
    "\n",
    "        data_processing = Rectangle(width=3, height = 1).set_color(YELLOW_B)\n",
    "        dp_text = Text(\"Data Processing\",font_size=24).next_to(data_processing,DOWN)\n",
    "        dp_text.move_to(data_processing.get_center())\n",
    "        dp_group = Group(data_processing, dp_text).move_to(DOWN * 2)\n",
    "\n",
    "        database = Rectangle(width=4, height=2).set_color(BLUE)\n",
    "        db_text = Text(\"Processed Data\", font_size=24).next_to(database, DOWN)\n",
    "        db_text.move_to(database.get_center())\n",
    "        database_group = Group(database, db_text).move_to(DOWN * 8)\n",
    "        \n",
    "        nba_start = nba.get_edge_center(DOWN)\n",
    "        nba_corner = np.array([nba_start[0], data_processing.get_edge_center(LEFT)[1], 0])  # bend point\n",
    "        nba_end = data_processing.get_edge_center(LEFT)\n",
    "\n",
    "        nba_segment1 = Line(nba_start, nba_corner).set_color(RED)\n",
    "        nba_segment2 = Line(nba_corner, nba_end).add_tip().set_color(RED)\n",
    "\n",
    "        espn_start = espn.get_edge_center(DOWN)\n",
    "        espn_corner = np.array([espn_start[0], data_processing.get_edge_center(UP)[1], 0])  # bend point\n",
    "        espn_end = data_processing.get_edge_center(UP)\n",
    "\n",
    "        espn_segment = Line(espn_start, espn_end).add_tip().set_color(ORANGE)\n",
    "\n",
    "        dk_start = dk.get_edge_center(DOWN)\n",
    "        dk_corner = np.array([dk_start[0], data_processing.get_edge_center(RIGHT)[1], 0])  # bend point\n",
    "        dk_end = data_processing.get_edge_center(RIGHT)\n",
    "\n",
    "        dk_segment1 = Line(dk_start, dk_corner).set_color(GREEN)\n",
    "        dk_segment2 = Line(dk_corner, dk_end).add_tip().set_color(GREEN)\n",
    "\n",
    "        self.play(Write(title))\n",
    "        self.wait(1)\n",
    "        self.play(FadeOut(title))\n",
    "        self.play(FadeIn(nba_group, dk_group,espn_group))\n",
    "        self.play(FadeIn(dp_group))\n",
    "        self.play(FadeIn(database), FadeIn(db_text))\n",
    "        self.play(Create(nba_segment1), Create(nba_segment2),Create(dk_segment1),Create(dk_segment2),Create(espn_segment))\n",
    "\n",
    "        self.play(FadeToColor(dk_segment1,color=WHITE),\n",
    "        FadeToColor(dk_segment2,color=WHITE),\n",
    "        FadeToColor(dk_group,color=WHITE),\n",
    "        FadeToColor(espn_group,color=WHITE),\n",
    "        FadeToColor(espn_segment,color=WHITE))\n",
    "\n",
    "        self.play(FadeOut(dk_segment1),FadeOut(dk_segment2),FadeOut(espn_segment))\n",
    "        self.wait(.5)\n",
    "        self.play(dk_group.animate.shift(UP * 4),espn_group.animate.shift(UP*4))\n",
    "        self.wait(3)\n",
    "        self.play(FadeOut(nba_segment1),FadeOut(nba_segment2))\n",
    "        # self.play(dp_group.animate.shift(UP * 4),database_group.animate.shift(UP * 6),nba_group.animate.shift(UP * 4))\n",
    "        data_processing_target_width = 1\n",
    "        data_processing_target_height = 3\n",
    "\n",
    "        database_target_width = 2\n",
    "        database_target_height = 4\n",
    "\n",
    "        # New positions\n",
    "        nba_target_pos = DOWN * .02  + LEFT * 5\n",
    "        target_nba = Rectangle(width=2.5, height=5).set_color(RED)\n",
    "        target_nba.move_to(nba.get_center())  # Keep it in place\n",
    "        target_nba_text = Text(\"NBA.com\", font_size=24).move_to(target_nba.get_center())\n",
    "        target_nba_group = Group(target_nba, target_nba_text).move_to(nba_target_pos)\n",
    "\n",
    "        dp_target_pos = DOWN * .02\n",
    "        target_data_processing = Rectangle(width=2.5, height=5).set_color(YELLOW_B)\n",
    "        target_data_processing.move_to(data_processing.get_center())  # Keep it in place\n",
    "        target_dp_text = Text(\"Data\\nProcessing\", font_size=24).move_to(target_data_processing.get_center())\n",
    "        target_dp_group = Group(target_data_processing, target_dp_text).move_to(dp_target_pos)\n",
    "\n",
    "        db_target_pos = RIGHT * 5 \n",
    "        target_database = Rectangle(width=2.5, height=5).set_color(BLUE)\n",
    "        target_database.move_to(database.get_center())  # Keep it in place\n",
    "        target_db_text = Text(\"Database\", font_size=24).move_to(target_database.get_center())\n",
    "        target_db_group = Group(target_database,target_db_text).move_to(db_target_pos)\n",
    "        # Animate transformation\n",
    "        self.play(Transform(dp_group, target_dp_group),Transform(database_group,target_db_group), Transform(nba_group,target_nba_group), run_time=2)\n",
    "        \n",
    "        for _ in range(5):  # Number of bursts\n",
    "            num_dots = random.choice([3,4,5])\n",
    "            animations = []\n",
    "\n",
    "            for _ in range(num_dots):\n",
    "                y_offset = random.uniform(-1.5, 1.5)\n",
    "                start = data_processing.get_edge_center(RIGHT) + RIGHT * 0.5 + UP * y_offset\n",
    "                end = database.get_edge_center(LEFT) + UP * y_offset * 0.3\n",
    "\n",
    "                path = Line(start, end)\n",
    "                dot = Dot(radius=0.07, color=WHITE).move_to(start)\n",
    "                self.add(dot)\n",
    "\n",
    "                # Sequence: move ➝ scale + fade ➝ remove\n",
    "                anim = Succession(\n",
    "                    MoveAlongPath(dot, path, rate_func=smooth),\n",
    "                    dot.animate.scale(0.01),\n",
    "                )\n",
    "                animations.append(anim)\n",
    "\n",
    "            self.play(*animations, run_time=0.8)\n",
    "            self.wait(0.3)\n"
   ]
  }
 ],
 "metadata": {
  "kernelspec": {
   "display_name": "Python 3",
   "language": "python",
   "name": "python3"
  },
  "language_info": {
   "codemirror_mode": {
    "name": "ipython",
    "version": 3
   },
   "file_extension": ".py",
   "mimetype": "text/x-python",
   "name": "python",
   "nbconvert_exporter": "python",
   "pygments_lexer": "ipython3",
   "version": "3.12.3"
  }
 },
 "nbformat": 4,
 "nbformat_minor": 2
}
